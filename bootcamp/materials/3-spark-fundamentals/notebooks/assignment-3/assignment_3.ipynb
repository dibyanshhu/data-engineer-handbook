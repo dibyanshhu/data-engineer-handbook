{
 "cells": [
  {
   "cell_type": "code",
   "execution_count": 26,
   "id": "cf3208c2-1cad-49f1-8a9e-17201b66ddc9",
   "metadata": {},
   "outputs": [],
   "source": [
    "from pyspark.sql import SparkSession\n",
    "from pyspark.sql.functions import col, count, avg, desc, broadcast"
   ]
  },
  {
   "cell_type": "code",
   "execution_count": 27,
   "id": "2e5628e5-cbaf-4410-a3a3-2097f3d45d24",
   "metadata": {},
   "outputs": [
    {
     "name": "stderr",
     "output_type": "stream",
     "text": [
      "24/12/12 12:30:35 WARN SparkSession: Using an existing Spark session; only runtime SQL configurations will take effect.\n"
     ]
    }
   ],
   "source": [
    "spark = SparkSession.builder \\\n",
    "    .appName(\"Assignment 3 - Spark Job\") \\\n",
    "    .config(\"spark.sql.autoBroadcastJoinThreshold\", \"-1\") \\\n",
    "    .getOrCreate()"
   ]
  },
  {
   "cell_type": "code",
   "execution_count": 29,
   "id": "5c241832-8fbd-4554-8ca2-9390440537f2",
   "metadata": {},
   "outputs": [],
   "source": [
    "# Load the datasets\n",
    "match_details_df = spark.read.csv(\"/home/iceberg/data/match_details.csv\", header=True, inferSchema=True)\n",
    "matches_df = spark.read.csv(\"/home/iceberg/data/matches.csv\", header=True, inferSchema=True)\n",
    "medals_matches_players_df = spark.read.csv(\"/home/iceberg/data/medals_matches_players.csv\", header=True, inferSchema=True)\n",
    "medals_df = spark.read.csv(\"/home/iceberg/data/medals.csv\", header=True, inferSchema=True)"
   ]
  },
  {
   "cell_type": "code",
   "execution_count": 52,
   "id": "39a5d026-88d8-45cf-addf-1a6386671634",
   "metadata": {},
   "outputs": [
    {
     "name": "stdout",
     "output_type": "stream",
     "text": [
      "+----------+--------------------+-----------+----------+------------------+-------------------+------------+-------------+-----------------+--------------------+--------------+----------+\n",
      "|  medal_id|          sprite_uri|sprite_left|sprite_top|sprite_sheet_width|sprite_sheet_height|sprite_width|sprite_height|   classification|         description|          name|difficulty|\n",
      "+----------+--------------------+-----------+----------+------------------+-------------------+------------+-------------+-----------------+--------------------+--------------+----------+\n",
      "|2315448068|                NULL|       NULL|      NULL|              NULL|               NULL|        NULL|         NULL|             NULL|                NULL|          NULL|      NULL|\n",
      "|3565441934|                NULL|       NULL|      NULL|              NULL|               NULL|        NULL|         NULL|             NULL|                NULL|          NULL|      NULL|\n",
      "|4162659350|https://content.h...|        750|       750|                74|                 74|        1125|          899|         Breakout|Kill the last ene...| Buzzer Beater|        45|\n",
      "|1573153198|https://content.h...|          0|       300|                74|                 74|        1125|          899|         Breakout|Survive a one-on-...|    Vanquisher|        30|\n",
      "| 298813630|https://content.h...|          0|       825|                74|                 74|        1125|          899|            Style|Kill an enemy wit...|Spartan Charge|       135|\n",
      "|3824002610|https://content.h...|        750|       600|                74|                 74|        1125|          899|         Vehicles|Assist a player i...|  Ghost Assist|       140|\n",
      "|3324603383|https://content.h...|        225|       750|                74|                 74|        1125|          899|          Warzone|       Kill a Grunt.|    Grunt Kill|        60|\n",
      "| 979431049|https://content.h...|        975|       675|                74|                 74|        1125|          899|         Breakout|Survive a two-on-...|       Bifecta|        25|\n",
      "|3098362934|https://content.h...|        150|       750|                74|                 74|        1125|          899|WeaponProficiency|Kill a player in ...|  Perfect Kill|        25|\n",
      "|2435743433|https://content.h...|        750|       225|                74|                 74|        1125|          899|          Warzone|Kill an enemy in ...|  Base Defense|        30|\n",
      "|2430242797|https://content.h...|        675|       300|                74|                 74|        1125|          899|     KillingSpree|Kill 5 opponents ...| Killing Spree|        45|\n",
      "|1427531503|https://content.h...|        375|         0|                74|                 74|        1125|          899|            Style|Assist in a Team ...| Team Takedown|       245|\n",
      "|2359847435|https://content.h...|        525|       375|                74|                 74|        1125|          899|         Breakout|Kill every member...|    Extinction|        35|\n",
      "|1691836029|https://content.h...|        150|       375|                74|                 74|        1350|          824|            Style|Recharge your shi...|   Hard Target|       105|\n",
      "|2766284219|https://content.h...|        150|       525|                74|                 74|        1125|          899|            Style|Kill an opponent ...|     Quickdraw|       200|\n",
      "|3354395650|https://content.h...|        375|       600|                74|                 74|        1125|          899|      Strongholds|Capture 3 Strongh...| Capture Spree|        10|\n",
      "|2564994165|                NULL|       NULL|      NULL|              NULL|               NULL|        NULL|         NULL|WeaponProficiency|Pick up 3 power w...|Big Gun Runner|        75|\n",
      "|2896365521|https://content.h...|        300|       450|                74|                 74|        1125|          899|            Style|Assist in a Team ...| Team Takedown|       245|\n",
      "|3786961025|https://content.h...|        900|       450|                74|                 74|        1125|          899|            Style|Kill an opponent ...|      Fastball|        65|\n",
      "| 243900335|https://content.h...|        750|       375|                74|                 74|        1350|          824|WeaponProficiency|Kill an enemy by ...|  Shotgun Kill|       110|\n",
      "+----------+--------------------+-----------+----------+------------------+-------------------+------------+-------------+-----------------+--------------------+--------------+----------+\n",
      "only showing top 20 rows\n",
      "\n"
     ]
    }
   ],
   "source": [
    "# Bucket join on match_id for match_details, matches, and medals_matches_players\n",
    "bucketed_match_details = match_details_df.repartitionByRange(16, \"match_id\")\n",
    "bucketed_matches = matches_df.repartitionByRange(16, \"match_id\")\n",
    "bucketed_medals_matches_players = medals_matches_players_df.repartitionByRange(16, \"match_id\")\n",
    "\n",
    "medals_df.show()"
   ]
  },
  {
   "cell_type": "code",
   "execution_count": 36,
   "id": "99e1f330-39d7-4f58-8602-321947995b99",
   "metadata": {},
   "outputs": [],
   "source": [
    "# Join match_details and matches using bucket join\n",
    "matches_with_details = bucketed_match_details.join(bucketed_matches, \"match_id\", \"inner\")\n",
    "\n",
    "# Join with medals_matches_players using bucket join\n",
    "complete_data = matches_with_details.join(bucketed_medals_matches_players, \"match_id\", \"inner\")\n",
    "\n",
    "# Broadcast join medals to complete_data\n",
    "complete_data_with_medals = complete_data.join(broadcast(medals_df), \"medal_id\", \"left\")"
   ]
  },
  {
   "cell_type": "code",
   "execution_count": 56,
   "id": "3d37b37b-2dbe-4cd8-acb5-55f97d757e97",
   "metadata": {},
   "outputs": [],
   "source": [
    "# Aggregations\n",
    "# 1. Which player averages the most kills per game?\n",
    "player_avg_kills = match_details_df.groupBy(\"player_gamertag\").agg(\n",
    "    avg(\"player_total_kills\").alias(\"avg_kills_per_game\")\n",
    ").orderBy(desc(\"avg_kills_per_game\")).limit(1)\n",
    "\n",
    "# 2. Which playlist gets played the most?\n",
    "most_played_playlist = matches_df.groupBy(\"playlist_id\").agg(\n",
    "    count(\"match_id\").alias(\"total_matches\")\n",
    ").orderBy(desc(\"total_matches\")).limit(1)\n",
    "\n",
    "# 3. Which map gets played the most?\n",
    "most_played_map = matches_df.groupBy(\"mapid\").agg(\n",
    "    count(\"match_id\").alias(\"total_matches\")\n",
    ").orderBy(desc(\"total_matches\")).limit(1)\n",
    "\n",
    "# 4. Which map do players get the most Killing Spree medals on?\n",
    "killing_spree_medals = complete_data_with_medals.filter(\n",
    "    col(\"name\") == \"Killing Spree\"\n",
    ").groupBy(\"mapid\").agg(\n",
    "    count(\"medal_id\").alias(\"total_killing_spree_medals\")\n",
    ").orderBy(desc(\"total_killing_spree_medals\")).limit(1)\n",
    "\n",
    "# # Optimize with sortWithinPartitions\n",
    "# player_avg_kills_sorted = player_avg_kills.sortWithinPartitions(\"avg_kills_per_game\")\n",
    "# most_played_playlist_sorted = most_played_playlist.sortWithinPartitions(\"playlist\")\n",
    "# most_played_map_sorted = most_played_map.sortWithinPartitions(\"map_id\")"
   ]
  },
  {
   "cell_type": "code",
   "execution_count": 46,
   "id": "b3c8bcfc-bce3-4192-8f13-b27c1e081d82",
   "metadata": {},
   "outputs": [
    {
     "name": "stderr",
     "output_type": "stream",
     "text": [
      "[Stage 67:========>                                                 (1 + 6) / 7]\r"
     ]
    },
    {
     "name": "stdout",
     "output_type": "stream",
     "text": [
      "+---------------+------------------+\n",
      "|player_gamertag|avg_kills_per_game|\n",
      "+---------------+------------------+\n",
      "|   gimpinator14|             109.0|\n",
      "+---------------+------------------+\n",
      "\n"
     ]
    },
    {
     "name": "stderr",
     "output_type": "stream",
     "text": [
      "                                                                                \r"
     ]
    }
   ],
   "source": [
    "player_avg_kills.show()"
   ]
  },
  {
   "cell_type": "code",
   "execution_count": 49,
   "id": "3af45d2a-7063-4ace-a677-31bf00961e5b",
   "metadata": {},
   "outputs": [
    {
     "name": "stdout",
     "output_type": "stream",
     "text": [
      "+--------------------+-------------+\n",
      "|         playlist_id|total_matches|\n",
      "+--------------------+-------------+\n",
      "|f72e0ef0-7c4a-430...|         9350|\n",
      "+--------------------+-------------+\n",
      "\n"
     ]
    }
   ],
   "source": [
    "most_played_playlist.show()"
   ]
  },
  {
   "cell_type": "code",
   "execution_count": 51,
   "id": "a2dd6fb4-5544-4428-8333-4fdb8d2844d1",
   "metadata": {},
   "outputs": [
    {
     "name": "stdout",
     "output_type": "stream",
     "text": [
      "+--------------------+-------------+\n",
      "|               mapid|total_matches|\n",
      "+--------------------+-------------+\n",
      "|c7edbf0f-f206-11e...|         8587|\n",
      "+--------------------+-------------+\n",
      "\n"
     ]
    }
   ],
   "source": [
    "most_played_map.show()"
   ]
  },
  {
   "cell_type": "code",
   "execution_count": 57,
   "id": "5fb4bb23-afc7-4f96-8495-861581fd7c1b",
   "metadata": {},
   "outputs": [
    {
     "name": "stderr",
     "output_type": "stream",
     "text": [
      "[Stage 101:===================================================> (194 + 6) / 200]\r"
     ]
    },
    {
     "name": "stdout",
     "output_type": "stream",
     "text": [
      "+--------------------+--------------------------+\n",
      "|               mapid|total_killing_spree_medals|\n",
      "+--------------------+--------------------------+\n",
      "|c74c9d0f-f206-11e...|                     56908|\n",
      "+--------------------+--------------------------+\n",
      "\n"
     ]
    },
    {
     "name": "stderr",
     "output_type": "stream",
     "text": [
      "                                                                                \r"
     ]
    }
   ],
   "source": [
    "killing_spree_medals.show()"
   ]
  },
  {
   "cell_type": "code",
   "execution_count": 60,
   "id": "5ec63076-5ae9-4c5d-a22b-e7e4e34dd34f",
   "metadata": {},
   "outputs": [
    {
     "name": "stderr",
     "output_type": "stream",
     "text": [
      "24/12/12 14:13:21 WARN SparkSession: Using an existing Spark session; only runtime SQL configurations will take effect.\n",
      "                                                                                \r"
     ]
    },
    {
     "name": "stdout",
     "output_type": "stream",
     "text": [
      "+---------------+------------------+\n",
      "|player_gamertag|avg_kills_per_game|\n",
      "+---------------+------------------+\n",
      "|   gimpinator14|             109.0|\n",
      "+---------------+------------------+\n",
      "\n",
      "+--------------------+-------------+\n",
      "|         playlist_id|total_matches|\n",
      "+--------------------+-------------+\n",
      "|f72e0ef0-7c4a-430...|         9350|\n",
      "+--------------------+-------------+\n",
      "\n",
      "+--------------------+-------------+\n",
      "|               mapid|total_matches|\n",
      "+--------------------+-------------+\n",
      "|c7edbf0f-f206-11e...|         8587|\n",
      "+--------------------+-------------+\n",
      "\n"
     ]
    },
    {
     "name": "stderr",
     "output_type": "stream",
     "text": [
      "                                                                                \r"
     ]
    },
    {
     "name": "stdout",
     "output_type": "stream",
     "text": [
      "+--------------------+--------------------------+\n",
      "|               mapid|total_killing_spree_medals|\n",
      "+--------------------+--------------------------+\n",
      "|c74c9d0f-f206-11e...|                     56908|\n",
      "+--------------------+--------------------------+\n",
      "\n"
     ]
    }
   ],
   "source": [
    "from pyspark.sql import SparkSession\n",
    "from pyspark.sql.functions import col, count, avg, desc, broadcast\n",
    "\n",
    "def initialize_spark(app_name: str) -> SparkSession:\n",
    "    \"\"\"Initialize Spark Session with required configuration.\"\"\"\n",
    "    return SparkSession.builder \\\n",
    "        .appName(app_name) \\\n",
    "        .config(\"spark.sql.autoBroadcastJoinThreshold\", \"-1\") \\\n",
    "        .getOrCreate()\n",
    "\n",
    "def load_data(spark: SparkSession, path: str):\n",
    "    \"\"\"Load CSV data into a DataFrame.\"\"\"\n",
    "    return spark.read.csv(path, header=True, inferSchema=True)\n",
    "\n",
    "def bucket_data(df, bucket_column: str, num_buckets: int):\n",
    "    \"\"\"Repartition DataFrame into buckets.\"\"\"\n",
    "    return df.repartitionByRange(num_buckets, bucket_column)\n",
    "\n",
    "def join_with_broadcast(df_left, df_right, join_column: str, join_type: str = \"inner\"):\n",
    "    \"\"\"Perform a broadcast join.\"\"\"\n",
    "    return df_left.join(broadcast(df_right), join_column, join_type)\n",
    "\n",
    "def calculate_top_player_avg_kills(match_details_df):\n",
    "    \"\"\"Calculate which player averages the most kills per game.\"\"\"\n",
    "    return match_details_df.groupBy(\"player_gamertag\").agg(\n",
    "        avg(\"player_total_kills\").alias(\"avg_kills_per_game\")\n",
    "        ).orderBy(desc(\"avg_kills_per_game\")).limit(1)\n",
    "\n",
    "def calculate_top_most_played_playlist(matches_df):\n",
    "    \"\"\"Determine which playlist gets played the most.\"\"\"\n",
    "    return matches_df.groupBy(\"playlist_id\").agg(\n",
    "        count(\"match_id\").alias(\"total_matches\")\n",
    "        ).orderBy(desc(\"total_matches\")).limit(1)\n",
    "\n",
    "def calculate_top_most_played_map(matches_df):\n",
    "    \"\"\"Determine which map gets played the most.\"\"\"\n",
    "    return matches_df.groupBy(\"mapid\").agg(\n",
    "        count(\"match_id\").alias(\"total_matches\")\n",
    "        ).orderBy(desc(\"total_matches\")).limit(1)\n",
    "\n",
    "def calculate_top_killing_spree_medals(complete_data_with_medals):\n",
    "    \"\"\"Determine which map has the most Killing Spree medals.\"\"\"\n",
    "    return complete_data_with_medals.filter(\n",
    "        col(\"name\") == \"Killing Spree\"\n",
    "        ).groupBy(\"mapid\").agg(\n",
    "        count(\"medal_id\").alias(\"total_killing_spree_medals\")\n",
    "        ).orderBy(desc(\"total_killing_spree_medals\")).limit(1)\n",
    "\n",
    "# def save_results(df, output_path: str):\n",
    "#     \"\"\"Save DataFrame results to disk.\"\"\"\n",
    "#     df.write.csv(output_path, header=True, mode=\"overwrite\")\n",
    "\n",
    "def main():\n",
    "    \"\"\"Main function to execute the Spark job.\"\"\"\n",
    "    spark = initialize_spark(\"Assignment 3 - Functional Programming\")\n",
    "\n",
    "    # Load datasets\n",
    "    match_details_df = load_data(spark, \"/home/iceberg/data/match_details.csv\")\n",
    "    matches_df = load_data(spark, \"/home/iceberg/data/matches.csv\")\n",
    "    medals_matches_players_df = load_data(spark, \"/home/iceberg/data/medals_matches_players.csv\")\n",
    "    medals_df = load_data(spark, \"/home/iceberg/data/medals.csv\")\n",
    "\n",
    "    # Bucket data\n",
    "    bucketed_match_details = bucket_data(match_details_df, \"match_id\", 16)\n",
    "    bucketed_matches = bucket_data(matches_df, \"match_id\", 16)\n",
    "    bucketed_medals_matches_players = bucket_data(medals_matches_players_df, \"match_id\", 16)\n",
    "\n",
    "    # Perform bucketed joins\n",
    "    matches_with_details = bucketed_match_details.join(bucketed_matches, \"match_id\", \"inner\")\n",
    "    complete_data = matches_with_details.join(bucketed_medals_matches_players, \"match_id\", \"inner\")\n",
    "\n",
    "    # Broadcast join with medals\n",
    "    complete_data_with_medals = join_with_broadcast(complete_data, medals_df, \"medal_id\")\n",
    "\n",
    "    # Aggregations with top 1 results\n",
    "    top_player_avg_kills = calculate_top_player_avg_kills(match_details_df)\n",
    "    top_most_played_playlist = calculate_top_most_played_playlist(matches_df)\n",
    "    top_most_played_map = calculate_top_most_played_map(matches_df)\n",
    "    top_killing_spree_medals = calculate_top_killing_spree_medals(complete_data_with_medals)\n",
    "\n",
    "    top_player_avg_kills.show()\n",
    "    top_most_played_playlist.show()\n",
    "    top_most_played_map.show()\n",
    "    top_killing_spree_medals.show()    \n",
    "\n",
    "    # Save results\n",
    "    # save_results(top_player_avg_kills, \"/path/to/output/top_player_avg_kills\")\n",
    "    # save_results(top_most_played_playlist, \"/path/to/output/top_most_played_playlist\")\n",
    "    # save_results(top_most_played_map, \"/path/to/output/top_most_played_map\")\n",
    "    # save_results(top_killing_spree_medals, \"/path/to/output/top_killing_spree_medals\")\n",
    "\n",
    "    # Stop Spark session\n",
    "    spark.stop()\n",
    "\n",
    "if __name__ == \"__main__\":\n",
    "    main()\n"
   ]
  },
  {
   "cell_type": "code",
   "execution_count": 61,
   "id": "ddb49b16-7819-42c7-96ce-826fdfe0139a",
   "metadata": {},
   "outputs": [
    {
     "name": "stderr",
     "output_type": "stream",
     "text": [
      "24/12/12 14:28:07 WARN Utils: Service 'SparkUI' could not bind on port 4040. Attempting port 4041.\n",
      "                                                                                \r"
     ]
    },
    {
     "name": "stdout",
     "output_type": "stream",
     "text": [
      "+---------------+------------------+\n",
      "|player_gamertag|avg_kills_per_game|\n",
      "+---------------+------------------+\n",
      "|   gimpinator14|             109.0|\n",
      "+---------------+------------------+\n",
      "\n",
      "+--------------------+-------------+\n",
      "|         playlist_id|total_matches|\n",
      "+--------------------+-------------+\n",
      "|f72e0ef0-7c4a-430...|         9350|\n",
      "+--------------------+-------------+\n",
      "\n",
      "+--------------------+-------------+\n",
      "|               mapid|total_matches|\n",
      "+--------------------+-------------+\n",
      "|c7edbf0f-f206-11e...|         8587|\n",
      "+--------------------+-------------+\n",
      "\n"
     ]
    },
    {
     "name": "stderr",
     "output_type": "stream",
     "text": [
      "                                                                                \r"
     ]
    },
    {
     "name": "stdout",
     "output_type": "stream",
     "text": [
      "+--------------------+--------------------------+\n",
      "|               mapid|total_killing_spree_medals|\n",
      "+--------------------+--------------------------+\n",
      "|c74c9d0f-f206-11e...|                     56908|\n",
      "+--------------------+--------------------------+\n",
      "\n"
     ]
    },
    {
     "name": "stderr",
     "output_type": "stream",
     "text": [
      "                                                                                \r"
     ]
    }
   ],
   "source": [
    "\n",
    "from pyspark.sql import SparkSession\n",
    "from pyspark.sql.functions import col, count, avg, desc, broadcast\n",
    "\n",
    "def initialize_spark(app_name: str) -> SparkSession:\n",
    "    \"\"\"Initialize Spark Session with required configuration.\"\"\"\n",
    "    return SparkSession.builder \\\n",
    "        .appName(app_name) \\\n",
    "        .config(\"spark.sql.autoBroadcastJoinThreshold\", \"-1\") \\\n",
    "        .getOrCreate()\n",
    "\n",
    "def load_data(spark: SparkSession, path: str):\n",
    "    \"\"\"Load CSV data into a DataFrame.\"\"\"\n",
    "    return spark.read.csv(path, header=True, inferSchema=True)\n",
    "\n",
    "def bucket_data(df, bucket_column: str, num_buckets: int):\n",
    "    \"\"\"Repartition DataFrame into buckets.\"\"\"\n",
    "    return df.repartition(num_buckets, bucket_column)\n",
    "\n",
    "def sort_within_partitions(df, sort_column: str):\n",
    "    \"\"\"Sort data within partitions.\"\"\"\n",
    "    return df.sortWithinPartitions(sort_column)\n",
    "\n",
    "def join_with_broadcast(df_left, df_right, join_column: str, join_type: str = \"inner\"):\n",
    "    \"\"\"Perform a broadcast join.\"\"\"\n",
    "    return df_left.join(broadcast(df_right), join_column, join_type)\n",
    "\n",
    "def calculate_top_player_avg_kills(match_details_df):\n",
    "    \"\"\"Calculate which player averages the most kills per game.\"\"\"\n",
    "    return match_details_df.groupBy(\"player_gamertag\").agg(\n",
    "        avg(\"player_total_kills\").alias(\"avg_kills_per_game\")\n",
    "        ).orderBy(desc(\"avg_kills_per_game\")).limit(1)\n",
    "\n",
    "def calculate_top_most_played_playlist(matches_df):\n",
    "    \"\"\"Determine which playlist gets played the most.\"\"\"\n",
    "    return matches_df.groupBy(\"playlist_id\").agg(\n",
    "        count(\"match_id\").alias(\"total_matches\")\n",
    "        ).orderBy(desc(\"total_matches\")).limit(1)\n",
    "\n",
    "def calculate_top_most_played_map(matches_df):\n",
    "    \"\"\"Determine which map gets played the most.\"\"\"\n",
    "    return matches_df.groupBy(\"mapid\").agg(\n",
    "        count(\"match_id\").alias(\"total_matches\")\n",
    "        ).orderBy(desc(\"total_matches\")).limit(1)\n",
    "\n",
    "def calculate_top_killing_spree_medals(complete_data_with_medals):\n",
    "    \"\"\"Determine which map has the most Killing Spree medals.\"\"\"\n",
    "    return complete_data_with_medals.filter(\n",
    "        col(\"name\") == \"Killing Spree\"\n",
    "        ).groupBy(\"mapid\").agg(\n",
    "        count(\"medal_id\").alias(\"total_killing_spree_medals\")\n",
    "        ).orderBy(desc(\"total_killing_spree_medals\")).limit(1)\n",
    "\n",
    "def save_results(df, output_path: str):\n",
    "    \"\"\"Save DataFrame results to disk.\"\"\"\n",
    "    df.write.csv(output_path, header=True, mode=\"overwrite\")\n",
    "\n",
    "def main():\n",
    "    \"\"\"Main function to execute the Spark job with optimizations.\"\"\"\n",
    "    spark = initialize_spark(\"Assignment 3 - Functional Programming with Optimizations\")\n",
    "\n",
    "    # Load datasets\n",
    "    match_details_df = load_data(spark, \"/home/iceberg/data/match_details.csv\")\n",
    "    matches_df = load_data(spark, \"/home/iceberg/data/matches.csv\")\n",
    "    medals_matches_players_df = load_data(spark, \"/home/iceberg/data/medals_matches_players.csv\")\n",
    "    medals_df = load_data(spark, \"/home/iceberg/data/medals.csv\")\n",
    "\n",
    "    # Bucket data\n",
    "    bucketed_match_details = bucket_data(match_details_df, \"match_id\", 16)\n",
    "    bucketed_matches = bucket_data(matches_df, \"match_id\", 16)\n",
    "    bucketed_medals_matches_players = bucket_data(medals_matches_players_df, \"match_id\", 16)\n",
    "\n",
    "    # Perform bucketed joins\n",
    "    matches_with_details = bucketed_match_details.join(bucketed_matches, \"match_id\", \"inner\")\n",
    "    complete_data = matches_with_details.join(bucketed_medals_matches_players, \"match_id\", \"inner\")\n",
    "\n",
    "    # Broadcast join with medals\n",
    "    complete_data_with_medals = join_with_broadcast(complete_data, medals_df, \"medal_id\")\n",
    "\n",
    "    # **Optimization: Sorting Within Partitions**\n",
    "    sorted_match_details = sort_within_partitions(match_details_df, \"player_gamertag\")\n",
    "    sorted_matches = sort_within_partitions(matches_df, \"playlist_id\")\n",
    "    sorted_medals_matches_players = sort_within_partitions(medals_matches_players_df, \"match_id\")\n",
    "\n",
    "    # Aggregations with top 1 results\n",
    "    top_player_avg_kills = calculate_top_player_avg_kills(sorted_match_details)\n",
    "    top_most_played_playlist = calculate_top_most_played_playlist(sorted_matches)\n",
    "    top_most_played_map = calculate_top_most_played_map(sorted_matches)\n",
    "    top_killing_spree_medals = calculate_top_killing_spree_medals(complete_data_with_medals)\n",
    "\n",
    "    # Show results\n",
    "    top_player_avg_kills.show()\n",
    "    top_most_played_playlist.show()\n",
    "    top_most_played_map.show()\n",
    "    top_killing_spree_medals.show()    \n",
    "\n",
    "    # Save results\n",
    "    save_results(top_player_avg_kills, \"/path/to/output/top_player_avg_kills\")\n",
    "    save_results(top_most_played_playlist, \"/path/to/output/top_most_played_playlist\")\n",
    "    save_results(top_most_played_map, \"/path/to/output/top_most_played_map\")\n",
    "    save_results(top_killing_spree_medals, \"/path/to/output/top_killing_spree_medals\")\n",
    "\n",
    "    # Stop Spark session\n",
    "    spark.stop()\n",
    "\n",
    "if __name__ == \"__main__\":\n",
    "    main()\n",
    "\n",
    "\n",
    "\n",
    "\n",
    "\n"
   ]
  },
  {
   "cell_type": "code",
   "execution_count": 64,
   "id": "207ee865-1092-42c4-955e-033555ec7f3b",
   "metadata": {},
   "outputs": [
    {
     "name": "stderr",
     "output_type": "stream",
     "text": [
      "[Stage 24:========>                                                 (1 + 6) / 7]\r"
     ]
    },
    {
     "name": "stdout",
     "output_type": "stream",
     "text": [
      "Partitions: 8\n",
      "== Parsed Logical Plan ==\n",
      "'Sort ['player_total_kills ASC NULLS FIRST], false\n",
      "+- RepartitionByExpression [player_gamertag#5499], 8\n",
      "   +- Relation [match_id#5498,player_gamertag#5499,previous_spartan_rank#5500,spartan_rank#5501,previous_total_xp#5502,total_xp#5503,previous_csr_tier#5504,previous_csr_designation#5505,previous_csr#5506,previous_csr_percent_to_next_tier#5507,previous_csr_rank#5508,current_csr_tier#5509,current_csr_designation#5510,current_csr#5511,current_csr_percent_to_next_tier#5512,current_csr_rank#5513,player_rank_on_team#5514,player_finished#5515,player_average_life#5516,player_total_kills#5517,player_total_headshots#5518,player_total_weapon_damage#5519,player_total_shots_landed#5520,player_total_melee_kills#5521,... 12 more fields] csv\n",
      "\n",
      "== Analyzed Logical Plan ==\n",
      "match_id: string, player_gamertag: string, previous_spartan_rank: int, spartan_rank: int, previous_total_xp: int, total_xp: int, previous_csr_tier: int, previous_csr_designation: int, previous_csr: int, previous_csr_percent_to_next_tier: int, previous_csr_rank: int, current_csr_tier: int, current_csr_designation: int, current_csr: int, current_csr_percent_to_next_tier: int, current_csr_rank: int, player_rank_on_team: int, player_finished: boolean, player_average_life: string, player_total_kills: int, player_total_headshots: int, player_total_weapon_damage: double, player_total_shots_landed: int, player_total_melee_kills: int, ... 12 more fields\n",
      "Sort [player_total_kills#5517 ASC NULLS FIRST], false\n",
      "+- RepartitionByExpression [player_gamertag#5499], 8\n",
      "   +- Relation [match_id#5498,player_gamertag#5499,previous_spartan_rank#5500,spartan_rank#5501,previous_total_xp#5502,total_xp#5503,previous_csr_tier#5504,previous_csr_designation#5505,previous_csr#5506,previous_csr_percent_to_next_tier#5507,previous_csr_rank#5508,current_csr_tier#5509,current_csr_designation#5510,current_csr#5511,current_csr_percent_to_next_tier#5512,current_csr_rank#5513,player_rank_on_team#5514,player_finished#5515,player_average_life#5516,player_total_kills#5517,player_total_headshots#5518,player_total_weapon_damage#5519,player_total_shots_landed#5520,player_total_melee_kills#5521,... 12 more fields] csv\n",
      "\n",
      "== Optimized Logical Plan ==\n",
      "Sort [player_total_kills#5517 ASC NULLS FIRST], false\n",
      "+- RepartitionByExpression [player_gamertag#5499], 8\n",
      "   +- Relation [match_id#5498,player_gamertag#5499,previous_spartan_rank#5500,spartan_rank#5501,previous_total_xp#5502,total_xp#5503,previous_csr_tier#5504,previous_csr_designation#5505,previous_csr#5506,previous_csr_percent_to_next_tier#5507,previous_csr_rank#5508,current_csr_tier#5509,current_csr_designation#5510,current_csr#5511,current_csr_percent_to_next_tier#5512,current_csr_rank#5513,player_rank_on_team#5514,player_finished#5515,player_average_life#5516,player_total_kills#5517,player_total_headshots#5518,player_total_weapon_damage#5519,player_total_shots_landed#5520,player_total_melee_kills#5521,... 12 more fields] csv\n",
      "\n",
      "== Physical Plan ==\n",
      "AdaptiveSparkPlan isFinalPlan=true\n",
      "+- == Final Plan ==\n",
      "   *(1) Sort [player_total_kills#5517 ASC NULLS FIRST], false, 0\n",
      "   +- ShuffleQueryStage 0\n",
      "      +- Exchange hashpartitioning(player_gamertag#5499, 8), REPARTITION_BY_NUM, [plan_id=4971]\n",
      "         +- FileScan csv [match_id#5498,player_gamertag#5499,previous_spartan_rank#5500,spartan_rank#5501,previous_total_xp#5502,total_xp#5503,previous_csr_tier#5504,previous_csr_designation#5505,previous_csr#5506,previous_csr_percent_to_next_tier#5507,previous_csr_rank#5508,current_csr_tier#5509,current_csr_designation#5510,current_csr#5511,current_csr_percent_to_next_tier#5512,current_csr_rank#5513,player_rank_on_team#5514,player_finished#5515,player_average_life#5516,player_total_kills#5517,player_total_headshots#5518,player_total_weapon_damage#5519,player_total_shots_landed#5520,player_total_melee_kills#5521,... 12 more fields] Batched: false, DataFilters: [], Format: CSV, Location: InMemoryFileIndex(1 paths)[file:/home/iceberg/data/match_details.csv], PartitionFilters: [], PushedFilters: [], ReadSchema: struct<match_id:string,player_gamertag:string,previous_spartan_rank:int,spartan_rank:int,previous...\n",
      "+- == Initial Plan ==\n",
      "   Sort [player_total_kills#5517 ASC NULLS FIRST], false, 0\n",
      "   +- Exchange hashpartitioning(player_gamertag#5499, 8), REPARTITION_BY_NUM, [plan_id=4971]\n",
      "      +- FileScan csv [match_id#5498,player_gamertag#5499,previous_spartan_rank#5500,spartan_rank#5501,previous_total_xp#5502,total_xp#5503,previous_csr_tier#5504,previous_csr_designation#5505,previous_csr#5506,previous_csr_percent_to_next_tier#5507,previous_csr_rank#5508,current_csr_tier#5509,current_csr_designation#5510,current_csr#5511,current_csr_percent_to_next_tier#5512,current_csr_rank#5513,player_rank_on_team#5514,player_finished#5515,player_average_life#5516,player_total_kills#5517,player_total_headshots#5518,player_total_weapon_damage#5519,player_total_shots_landed#5520,player_total_melee_kills#5521,... 12 more fields] Batched: false, DataFilters: [], Format: CSV, Location: InMemoryFileIndex(1 paths)[file:/home/iceberg/data/match_details.csv], PartitionFilters: [], PushedFilters: [], ReadSchema: struct<match_id:string,player_gamertag:string,previous_spartan_rank:int,spartan_rank:int,previous...\n",
      "\n",
      "Partitions: 4\n",
      "== Parsed Logical Plan ==\n",
      "'Sort ['match_id ASC NULLS FIRST], false\n",
      "+- RepartitionByExpression [playlist_id#5590], 4\n",
      "   +- Relation [match_id#5587,mapid#5588,is_team_game#5589,playlist_id#5590,game_variant_id#5591,is_match_over#5592,completion_date#5593,match_duration#5594,game_mode#5595,map_variant_id#5596] csv\n",
      "\n",
      "== Analyzed Logical Plan ==\n",
      "match_id: string, mapid: string, is_team_game: boolean, playlist_id: string, game_variant_id: string, is_match_over: boolean, completion_date: timestamp, match_duration: string, game_mode: string, map_variant_id: string\n",
      "Sort [match_id#5587 ASC NULLS FIRST], false\n",
      "+- RepartitionByExpression [playlist_id#5590], 4\n",
      "   +- Relation [match_id#5587,mapid#5588,is_team_game#5589,playlist_id#5590,game_variant_id#5591,is_match_over#5592,completion_date#5593,match_duration#5594,game_mode#5595,map_variant_id#5596] csv\n",
      "\n",
      "== Optimized Logical Plan ==\n",
      "Sort [match_id#5587 ASC NULLS FIRST], false\n",
      "+- RepartitionByExpression [playlist_id#5590], 4\n",
      "   +- Relation [match_id#5587,mapid#5588,is_team_game#5589,playlist_id#5590,game_variant_id#5591,is_match_over#5592,completion_date#5593,match_duration#5594,game_mode#5595,map_variant_id#5596] csv\n",
      "\n",
      "== Physical Plan ==\n",
      "AdaptiveSparkPlan isFinalPlan=true\n",
      "+- == Final Plan ==\n",
      "   *(1) Sort [match_id#5587 ASC NULLS FIRST], false, 0\n",
      "   +- ShuffleQueryStage 0\n",
      "      +- Exchange hashpartitioning(playlist_id#5590, 4), REPARTITION_BY_NUM, [plan_id=4995]\n",
      "         +- FileScan csv [match_id#5587,mapid#5588,is_team_game#5589,playlist_id#5590,game_variant_id#5591,is_match_over#5592,completion_date#5593,match_duration#5594,game_mode#5595,map_variant_id#5596] Batched: false, DataFilters: [], Format: CSV, Location: InMemoryFileIndex(1 paths)[file:/home/iceberg/data/matches.csv], PartitionFilters: [], PushedFilters: [], ReadSchema: struct<match_id:string,mapid:string,is_team_game:boolean,playlist_id:string,game_variant_id:strin...\n",
      "+- == Initial Plan ==\n",
      "   Sort [match_id#5587 ASC NULLS FIRST], false, 0\n",
      "   +- Exchange hashpartitioning(playlist_id#5590, 4), REPARTITION_BY_NUM, [plan_id=4995]\n",
      "      +- FileScan csv [match_id#5587,mapid#5588,is_team_game#5589,playlist_id#5590,game_variant_id#5591,is_match_over#5592,completion_date#5593,match_duration#5594,game_mode#5595,map_variant_id#5596] Batched: false, DataFilters: [], Format: CSV, Location: InMemoryFileIndex(1 paths)[file:/home/iceberg/data/matches.csv], PartitionFilters: [], PushedFilters: [], ReadSchema: struct<match_id:string,mapid:string,is_team_game:boolean,playlist_id:string,game_variant_id:strin...\n",
      "\n"
     ]
    },
    {
     "name": "stderr",
     "output_type": "stream",
     "text": [
      "                                                                                \r"
     ]
    },
    {
     "name": "stdout",
     "output_type": "stream",
     "text": [
      "+---------------+------------------+\n",
      "|player_gamertag|avg_kills_per_game|\n",
      "+---------------+------------------+\n",
      "|   gimpinator14|             109.0|\n",
      "+---------------+------------------+\n",
      "\n",
      "+--------------------+-------------+\n",
      "|         playlist_id|total_matches|\n",
      "+--------------------+-------------+\n",
      "|f72e0ef0-7c4a-430...|         9350|\n",
      "+--------------------+-------------+\n",
      "\n",
      "+--------------------+-------------+\n",
      "|               mapid|total_matches|\n",
      "+--------------------+-------------+\n",
      "|c7edbf0f-f206-11e...|         8587|\n",
      "+--------------------+-------------+\n",
      "\n"
     ]
    },
    {
     "name": "stderr",
     "output_type": "stream",
     "text": [
      "                                                                                \r"
     ]
    },
    {
     "name": "stdout",
     "output_type": "stream",
     "text": [
      "+--------------------+--------------------------+\n",
      "|               mapid|total_killing_spree_medals|\n",
      "+--------------------+--------------------------+\n",
      "|c74c9d0f-f206-11e...|                     56908|\n",
      "+--------------------+--------------------------+\n",
      "\n"
     ]
    }
   ],
   "source": [
    "from pyspark.sql import SparkSession\n",
    "from pyspark.sql.functions import col, count, avg, desc, broadcast\n",
    "\n",
    "# Initialize Spark Session\n",
    "def initialize_spark(app_name: str) -> SparkSession:\n",
    "    \"\"\"Initialize Spark Session with required configuration.\"\"\"\n",
    "    return SparkSession.builder \\\n",
    "        .appName(app_name) \\\n",
    "        .config(\"spark.sql.autoBroadcastJoinThreshold\", \"-1\") \\\n",
    "        .enableHiveSupport() \\\n",
    "        .getOrCreate()\n",
    "\n",
    "# Load data from CSV\n",
    "def load_data(spark: SparkSession, path: str):\n",
    "    \"\"\"Load CSV data into a DataFrame.\"\"\"\n",
    "    return spark.read.csv(path, header=True, inferSchema=True)\n",
    "\n",
    "# Bucket data\n",
    "def bucket_data(df, bucket_column: str, num_buckets: int):\n",
    "    \"\"\"Repartition DataFrame into buckets.\"\"\"\n",
    "    return df.repartitionByRange(num_buckets, bucket_column)\n",
    "\n",
    "# Perform bucketed join\n",
    "def bucketed_join(df_left, df_right, join_column: str, join_type: str = \"inner\"):\n",
    "    \"\"\"Perform a bucket join.\"\"\"\n",
    "    return df_left.join(df_right, join_column, join_type)\n",
    "\n",
    "# Perform broadcast join\n",
    "def join_with_broadcast(df_left, df_right, join_column: str, join_type: str = \"inner\"):\n",
    "    \"\"\"Perform a broadcast join.\"\"\"\n",
    "    return df_left.join(broadcast(df_right), join_column, join_type)\n",
    "\n",
    "# Aggregation queries\n",
    "def calculate_top_player_avg_kills(match_details_df):\n",
    "    \"\"\"Calculate which player averages the most kills per game.\"\"\"\n",
    "    return match_details_df.groupBy(\"player_gamertag\").agg(\n",
    "        avg(\"player_total_kills\").alias(\"avg_kills_per_game\")\n",
    "    ).orderBy(desc(\"avg_kills_per_game\")).limit(1)\n",
    "\n",
    "def calculate_top_most_played_playlist(matches_df):\n",
    "    \"\"\"Determine which playlist gets played the most.\"\"\"\n",
    "    return matches_df.groupBy(\"playlist_id\").agg(\n",
    "        count(\"match_id\").alias(\"total_matches\")\n",
    "    ).orderBy(desc(\"total_matches\")).limit(1)\n",
    "\n",
    "def calculate_top_most_played_map(matches_df):\n",
    "    \"\"\"Determine which map gets played the most.\"\"\"\n",
    "    return matches_df.groupBy(\"mapid\").agg(\n",
    "        count(\"match_id\").alias(\"total_matches\")\n",
    "    ).orderBy(desc(\"total_matches\")).limit(1)\n",
    "\n",
    "def calculate_top_killing_spree_medals(complete_data_with_medals):\n",
    "    \"\"\"Determine which map has the most Killing Spree medals.\"\"\"\n",
    "    return complete_data_with_medals.filter(\n",
    "        col(\"name\") == \"Killing Spree\"\n",
    "    ).groupBy(\"mapid\").agg(\n",
    "        count(\"medal_id\").alias(\"total_killing_spree_medals\")\n",
    "    ).orderBy(desc(\"total_killing_spree_medals\")).limit(1)\n",
    "\n",
    "# Demonstrate partitioning and sorting\n",
    "def demonstrate_partitioning_and_sort(df, partition_column: str, num_partitions: int, sort_column: str):\n",
    "    \"\"\"Demonstrate partitioning and sorting within partitions.\"\"\"\n",
    "    repartitioned_df = df.repartition(num_partitions, col(partition_column))\n",
    "    sorted_df = repartitioned_df.sortWithinPartitions(sort_column)\n",
    "    print(f\"Partitions: {sorted_df.rdd.getNumPartitions()}\")\n",
    "    sorted_df.explain(True)\n",
    "    return sorted_df\n",
    "\n",
    "def main():\n",
    "    \"\"\"Main function to execute the Spark job.\"\"\"\n",
    "    spark = initialize_spark(\"Assignment 3 - Functional Programming\")\n",
    "\n",
    "    # Load datasets\n",
    "    match_details_df = load_data(spark, \"/home/iceberg/data/match_details.csv\")\n",
    "    matches_df = load_data(spark, \"/home/iceberg/data/matches.csv\")\n",
    "    medals_matches_players_df = load_data(spark, \"/home/iceberg/data/medals_matches_players.csv\")\n",
    "    medals_df = load_data(spark, \"/home/iceberg/data/medals.csv\")\n",
    "\n",
    "    # Bucket data\n",
    "    bucketed_match_details = bucket_data(match_details_df, \"match_id\", 16)\n",
    "    bucketed_matches = bucket_data(matches_df, \"match_id\", 16)\n",
    "    bucketed_medals_matches_players = bucket_data(medals_matches_players_df, \"match_id\", 16)\n",
    "\n",
    "    # Perform bucketed joins\n",
    "    matches_with_details = bucketed_join(bucketed_match_details, bucketed_matches, \"match_id\")\n",
    "    complete_data = bucketed_join(matches_with_details, bucketed_medals_matches_players, \"match_id\")\n",
    "\n",
    "    # Broadcast join with medals\n",
    "    complete_data_with_medals = join_with_broadcast(complete_data, medals_df, \"medal_id\")\n",
    "\n",
    "    # Aggregations\n",
    "    top_player_avg_kills = calculate_top_player_avg_kills(match_details_df)\n",
    "    top_most_played_playlist = calculate_top_most_played_playlist(matches_df)\n",
    "    top_most_played_map = calculate_top_most_played_map(matches_df)\n",
    "    top_killing_spree_medals = calculate_top_killing_spree_medals(complete_data_with_medals)\n",
    "\n",
    "    # Partitioning demonstration\n",
    "    demonstrate_partitioning_and_sort(match_details_df, \"player_gamertag\", 8, \"player_total_kills\")\n",
    "    demonstrate_partitioning_and_sort(matches_df, \"playlist_id\", 4, \"match_id\")\n",
    "\n",
    "    # Show results\n",
    "    top_player_avg_kills.show()\n",
    "    top_most_played_playlist.show()\n",
    "    top_most_played_map.show()\n",
    "    top_killing_spree_medals.show()\n",
    "\n",
    "    # Stop Spark session\n",
    "    spark.stop()\n",
    "\n",
    "if __name__ == \"__main__\":\n",
    "    main()\n"
   ]
  },
  {
   "cell_type": "code",
   "execution_count": null,
   "id": "689da8f0-5e4a-4b5f-88c9-c620b24f5b05",
   "metadata": {},
   "outputs": [],
   "source": []
  }
 ],
 "metadata": {
  "kernelspec": {
   "display_name": "Python 3 (ipykernel)",
   "language": "python",
   "name": "python3"
  },
  "language_info": {
   "codemirror_mode": {
    "name": "ipython",
    "version": 3
   },
   "file_extension": ".py",
   "mimetype": "text/x-python",
   "name": "python",
   "nbconvert_exporter": "python",
   "pygments_lexer": "ipython3",
   "version": "3.9.18"
  }
 },
 "nbformat": 4,
 "nbformat_minor": 5
}
